{
 "cells": [
  {
   "cell_type": "code",
   "execution_count": 5,
   "metadata": {},
   "outputs": [],
   "source": [
    "from othello import *\n",
    "# lets animate the game\n",
    "from ipywidgets import interact, interactive, fixed, interact_manual\n",
    "import ipywidgets as widgets\n",
    "import torch\n",
    "import torch.nn as nn"
   ]
  },
  {
   "cell_type": "code",
   "execution_count": 2,
   "metadata": {},
   "outputs": [],
   "source": [
    "moves, board = play_random_game(return_final_board=True)\n",
    "board_2 = apply_moves(init_board(), moves, -1)\n",
    "assert (board == board_2).all()"
   ]
  },
  {
   "cell_type": "code",
   "execution_count": 3,
   "metadata": {},
   "outputs": [],
   "source": [
    "def run_game(moves, n):\n",
    "    board = apply_moves(init_board(), moves[:n], -1)"
   ]
  },
  {
   "cell_type": "code",
   "execution_count": 4,
   "metadata": {},
   "outputs": [
    {
     "data": {
      "application/vnd.jupyter.widget-view+json": {
       "model_id": "e4ba2bc764f241809e14d6812766108a",
       "version_major": 2,
       "version_minor": 0
      },
      "text/plain": [
       "interactive(children=(IntSlider(value=0, description='n', max=61), Output()), _dom_classes=('widget-interact',…"
      ]
     },
     "metadata": {},
     "output_type": "display_data"
    },
    {
     "data": {
      "text/plain": [
       "<function __main__.run_game(moves, n)>"
      ]
     },
     "execution_count": 4,
     "metadata": {},
     "output_type": "execute_result"
    }
   ],
   "source": [
    "interact(run_game, moves=fixed(moves), n=widgets.IntSlider(min=0, max=len(moves), step=1, value=0))"
   ]
  },
  {
   "cell_type": "code",
   "execution_count": 5,
   "metadata": {},
   "outputs": [
    {
     "data": {
      "text/plain": [
       "[(4, 5),\n",
       " (5, 3),\n",
       " (4, 2),\n",
       " (5, 1),\n",
       " (6, 2),\n",
       " (4, 6),\n",
       " (4, 0),\n",
       " (6, 4),\n",
       " (3, 2),\n",
       " (2, 1),\n",
       " (5, 5),\n",
       " (6, 0),\n",
       " (3, 5),\n",
       " (3, 6),\n",
       " (2, 2),\n",
       " (7, 3),\n",
       " (2, 7),\n",
       " (3, 7),\n",
       " (4, 1),\n",
       " (5, 4),\n",
       " (6, 1),\n",
       " (6, 6),\n",
       " (7, 7),\n",
       " (3, 1),\n",
       " (2, 0),\n",
       " (7, 1),\n",
       " (6, 3),\n",
       " (5, 6),\n",
       " (2, 5),\n",
       " (1, 3),\n",
       " (2, 3),\n",
       " (5, 2),\n",
       " (7, 5),\n",
       " (1, 2),\n",
       " (7, 0),\n",
       " (7, 6),\n",
       " (2, 4),\n",
       " (1, 0),\n",
       " (5, 7),\n",
       " (6, 5),\n",
       " (0, 0),\n",
       " (3, 0),\n",
       " (7, 2),\n",
       " (1, 6),\n",
       " (0, 3),\n",
       " (2, 6),\n",
       " (0, 5),\n",
       " (0, 7),\n",
       " (0, 2),\n",
       " (0, 1),\n",
       " (6, 7),\n",
       " (5, 0),\n",
       " (1, 1),\n",
       " (1, 7),\n",
       " (4, 7),\n",
       " (1, 5),\n",
       " (1, 4),\n",
       " (7, 4),\n",
       " (0, 6),\n",
       " (0, 4)]"
      ]
     },
     "execution_count": 5,
     "metadata": {},
     "output_type": "execute_result"
    }
   ],
   "source": [
    "play_random_game(silent=True)"
   ]
  },
  {
   "cell_type": "code",
   "execution_count": 6,
   "metadata": {},
   "outputs": [
    {
     "name": "stdout",
     "output_type": "stream",
     "text": [
      "10 GB\n"
     ]
    }
   ],
   "source": [
    "moves = play_random_game()\n",
    "len(moves)\n",
    "# size in bytes\n",
    "import sys\n",
    "\n",
    "bytes = sys.getsizeof(moves)*20_000_000\n",
    "\n",
    "print(bytes // 2**30, \"GB\")"
   ]
  },
  {
   "cell_type": "code",
   "execution_count": 1,
   "metadata": {},
   "outputs": [],
   "source": [
    "from datasets import load_dataset\n"
   ]
  },
  {
   "cell_type": "code",
   "execution_count": 7,
   "metadata": {},
   "outputs": [
    {
     "data": {
      "application/vnd.jupyter.widget-view+json": {
       "model_id": "698d1fcd3c294904a720622391c661eb",
       "version_major": 2,
       "version_minor": 0
      },
      "text/plain": [
       "Resolving data files:   0%|          | 0/100 [00:00<?, ?it/s]"
      ]
     },
     "metadata": {},
     "output_type": "display_data"
    },
    {
     "data": {
      "application/vnd.jupyter.widget-view+json": {
       "model_id": "5e18ba67e66d43888768ca7702ba16ad",
       "version_major": 2,
       "version_minor": 0
      },
      "text/plain": [
       "Downloading data:   0%|          | 0/100 [00:00<?, ?files/s]"
      ]
     },
     "metadata": {},
     "output_type": "display_data"
    },
    {
     "data": {
      "application/vnd.jupyter.widget-view+json": {
       "model_id": "b76df4c0f697411384220e143a7b5a03",
       "version_major": 2,
       "version_minor": 0
      },
      "text/plain": [
       "Generating train split: 0 examples [00:00, ? examples/s]"
      ]
     },
     "metadata": {},
     "output_type": "display_data"
    },
    {
     "data": {
      "text/plain": [
       "DatasetDict({\n",
       "    train: Dataset({\n",
       "        features: ['text'],\n",
       "        num_rows: 20000000\n",
       "    })\n",
       "})"
      ]
     },
     "execution_count": 7,
     "metadata": {},
     "output_type": "execute_result"
    }
   ],
   "source": [
    "# load the text dataset in train directory\n",
    "ds = load_dataset(\"text\", data_dir=\"train\")\n",
    "ds"
   ]
  },
  {
   "cell_type": "code",
   "execution_count": 11,
   "metadata": {},
   "outputs": [],
   "source": [
    "from data import Tokenizer\n",
    "tokenizer = Tokenizer()\n"
   ]
  },
  {
   "cell_type": "code",
   "execution_count": 18,
   "metadata": {},
   "outputs": [
    {
     "data": {
      "text/plain": [
       "{'00': 61,\n",
       " '01': 61,\n",
       " '02': 61,\n",
       " '03': 61,\n",
       " '04': 61,\n",
       " '05': 61,\n",
       " '06': 61,\n",
       " '07': 61,\n",
       " '10': 61,\n",
       " '11': 61,\n",
       " '12': 61,\n",
       " '13': 61,\n",
       " '14': 61,\n",
       " '15': 61,\n",
       " '16': 61,\n",
       " '17': 61,\n",
       " '20': 61,\n",
       " '21': 61,\n",
       " '22': 61,\n",
       " '23': 61,\n",
       " '24': 61,\n",
       " '25': 61,\n",
       " '26': 61,\n",
       " '27': 61,\n",
       " '30': 61,\n",
       " '31': 61,\n",
       " '32': 61,\n",
       " '35': 61,\n",
       " '36': 61,\n",
       " '37': 61,\n",
       " '40': 61,\n",
       " '41': 61,\n",
       " '42': 61,\n",
       " '45': 61,\n",
       " '46': 61,\n",
       " '47': 61,\n",
       " '50': 61,\n",
       " '51': 61,\n",
       " '52': 61,\n",
       " '53': 61,\n",
       " '54': 61,\n",
       " '55': 61,\n",
       " '56': 61,\n",
       " '57': 61,\n",
       " '60': 61,\n",
       " '61': 61,\n",
       " '62': 61,\n",
       " '63': 61,\n",
       " '64': 61,\n",
       " '65': 61,\n",
       " '66': 61,\n",
       " '67': 61,\n",
       " '70': 61,\n",
       " '71': 61,\n",
       " '72': 61,\n",
       " '73': 61,\n",
       " '74': 61,\n",
       " '75': 61,\n",
       " '76': 61,\n",
       " '77': 61,\n",
       " 'PASS': 61}"
      ]
     },
     "execution_count": 18,
     "metadata": {},
     "output_type": "execute_result"
    }
   ],
   "source": [
    "tokenizer.token_to_index"
   ]
  },
  {
   "cell_type": "code",
   "execution_count": 13,
   "metadata": {},
   "outputs": [
    {
     "data": {
      "text/plain": [
       "('53 52 24 45 56 63 61 51 55 70 73 74 50 25 35 41 75 23 72 71 16 36 26 07 46 37 54 62 30 65 12 31 40 47 60 17 64 22 42 76 20 01 67 10 11 57 15 00 66 77 27 05 32 14 21 13 03 02 04 06',\n",
       " [39,\n",
       "  38,\n",
       "  20,\n",
       "  33,\n",
       "  42,\n",
       "  47,\n",
       "  45,\n",
       "  37,\n",
       "  41,\n",
       "  52,\n",
       "  55,\n",
       "  56,\n",
       "  36,\n",
       "  21,\n",
       "  27,\n",
       "  31,\n",
       "  57,\n",
       "  19,\n",
       "  54,\n",
       "  53,\n",
       "  14,\n",
       "  28,\n",
       "  22,\n",
       "  7,\n",
       "  34,\n",
       "  29,\n",
       "  40,\n",
       "  46,\n",
       "  24,\n",
       "  49,\n",
       "  10,\n",
       "  25,\n",
       "  30,\n",
       "  35,\n",
       "  44,\n",
       "  15,\n",
       "  48,\n",
       "  18,\n",
       "  32,\n",
       "  58,\n",
       "  16,\n",
       "  1,\n",
       "  51,\n",
       "  8,\n",
       "  9,\n",
       "  43,\n",
       "  13,\n",
       "  0,\n",
       "  50,\n",
       "  59,\n",
       "  23,\n",
       "  5,\n",
       "  26,\n",
       "  12,\n",
       "  17,\n",
       "  11,\n",
       "  3,\n",
       "  2,\n",
       "  4,\n",
       "  6])"
      ]
     },
     "execution_count": 13,
     "metadata": {},
     "output_type": "execute_result"
    }
   ],
   "source": [
    "example = ds[\"train\"][0][\"text\"]\n",
    "example, tokenizer.encode(example)"
   ]
  }
 ],
 "metadata": {
  "kernelspec": {
   "display_name": "Python 3",
   "language": "python",
   "name": "python3"
  },
  "language_info": {
   "codemirror_mode": {
    "name": "ipython",
    "version": 3
   },
   "file_extension": ".py",
   "mimetype": "text/x-python",
   "name": "python",
   "nbconvert_exporter": "python",
   "pygments_lexer": "ipython3",
   "version": "3.11.11"
  }
 },
 "nbformat": 4,
 "nbformat_minor": 2
}
