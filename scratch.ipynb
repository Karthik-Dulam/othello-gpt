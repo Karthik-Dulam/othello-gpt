{
 "cells": [
  {
   "cell_type": "code",
   "execution_count": 1,
   "metadata": {},
   "outputs": [],
   "source": [
    "from othello import *\n",
    "# lets animate the game\n",
    "from ipywidgets import interact, interactive, fixed, interact_manual\n",
    "import ipywidgets as widgets"
   ]
  },
  {
   "cell_type": "code",
   "execution_count": 2,
   "metadata": {},
   "outputs": [],
   "source": [
    "moves, board = play_random_game(return_final_board=True)\n",
    "board_2 = apply_moves(init_board(), moves, -1)\n",
    "assert (board == board_2).all()"
   ]
  },
  {
   "cell_type": "code",
   "execution_count": 3,
   "metadata": {},
   "outputs": [],
   "source": [
    "def run_game(moves, n):\n",
    "    board = apply_moves(init_board(), moves[:n], -1)"
   ]
  },
  {
   "cell_type": "code",
   "execution_count": 4,
   "metadata": {},
   "outputs": [
    {
     "data": {
      "application/vnd.jupyter.widget-view+json": {
       "model_id": "e4ba2bc764f241809e14d6812766108a",
       "version_major": 2,
       "version_minor": 0
      },
      "text/plain": [
       "interactive(children=(IntSlider(value=0, description='n', max=61), Output()), _dom_classes=('widget-interact',…"
      ]
     },
     "metadata": {},
     "output_type": "display_data"
    },
    {
     "data": {
      "text/plain": [
       "<function __main__.run_game(moves, n)>"
      ]
     },
     "execution_count": 4,
     "metadata": {},
     "output_type": "execute_result"
    }
   ],
   "source": [
    "interact(run_game, moves=fixed(moves), n=widgets.IntSlider(min=0, max=len(moves), step=1, value=0))"
   ]
  },
  {
   "cell_type": "code",
   "execution_count": 5,
   "metadata": {},
   "outputs": [
    {
     "data": {
      "text/plain": [
       "[(4, 5),\n",
       " (5, 3),\n",
       " (4, 2),\n",
       " (5, 1),\n",
       " (6, 2),\n",
       " (4, 6),\n",
       " (4, 0),\n",
       " (6, 4),\n",
       " (3, 2),\n",
       " (2, 1),\n",
       " (5, 5),\n",
       " (6, 0),\n",
       " (3, 5),\n",
       " (3, 6),\n",
       " (2, 2),\n",
       " (7, 3),\n",
       " (2, 7),\n",
       " (3, 7),\n",
       " (4, 1),\n",
       " (5, 4),\n",
       " (6, 1),\n",
       " (6, 6),\n",
       " (7, 7),\n",
       " (3, 1),\n",
       " (2, 0),\n",
       " (7, 1),\n",
       " (6, 3),\n",
       " (5, 6),\n",
       " (2, 5),\n",
       " (1, 3),\n",
       " (2, 3),\n",
       " (5, 2),\n",
       " (7, 5),\n",
       " (1, 2),\n",
       " (7, 0),\n",
       " (7, 6),\n",
       " (2, 4),\n",
       " (1, 0),\n",
       " (5, 7),\n",
       " (6, 5),\n",
       " (0, 0),\n",
       " (3, 0),\n",
       " (7, 2),\n",
       " (1, 6),\n",
       " (0, 3),\n",
       " (2, 6),\n",
       " (0, 5),\n",
       " (0, 7),\n",
       " (0, 2),\n",
       " (0, 1),\n",
       " (6, 7),\n",
       " (5, 0),\n",
       " (1, 1),\n",
       " (1, 7),\n",
       " (4, 7),\n",
       " (1, 5),\n",
       " (1, 4),\n",
       " (7, 4),\n",
       " (0, 6),\n",
       " (0, 4)]"
      ]
     },
     "execution_count": 5,
     "metadata": {},
     "output_type": "execute_result"
    }
   ],
   "source": [
    "play_random_game(silent=True)"
   ]
  },
  {
   "cell_type": "code",
   "execution_count": 6,
   "metadata": {},
   "outputs": [
    {
     "name": "stdout",
     "output_type": "stream",
     "text": [
      "10 GB\n"
     ]
    }
   ],
   "source": [
    "moves = play_random_game()\n",
    "len(moves)\n",
    "# size in bytes\n",
    "import sys\n",
    "\n",
    "bytes = sys.getsizeof(moves)*20_000_000\n",
    "\n",
    "print(bytes // 2**30, \"GB\")"
   ]
  },
  {
   "cell_type": "code",
   "execution_count": 7,
   "metadata": {},
   "outputs": [
    {
     "name": "stderr",
     "output_type": "stream",
     "text": [
      "  0%|          | 0/1000 [00:00<?, ?it/s]"
     ]
    },
    {
     "name": "stdout",
     "output_type": "stream",
     "text": [
      "2 4\n",
      "2 3\n",
      "3 2\n",
      "4 1\n",
      "1 2\n",
      "3 5\n",
      "4 5\n",
      "5 5\n",
      "5 2\n",
      "5 4\n",
      "3 6\n",
      "2 7\n",
      "5 6\n",
      "4 6\n",
      "2 6\n",
      "0 1\n",
      "3 0\n",
      "1 5\n",
      "5 3\n",
      "3 7\n",
      "1 6\n",
      "5 0\n",
      "1 3\n",
      "6 4\n",
      "6 3\n",
      "0 6\n",
      "7 4\n",
      "2 2\n",
      "2 1\n",
      "5 1\n",
      "0 3\n",
      "2 5\n",
      "4 2\n",
      "1 4\n",
      "4 7\n",
      "5 7\n",
      "0 5\n",
      "6 2\n",
      "6 0\n",
      "6 5\n",
      "7 2\n",
      "7 0\n",
      "7 5\n",
      "7 1\n",
      "1 7\n",
      "1 1\n",
      "6 6\n",
      "6 7\n",
      "7 3\n",
      "0 7\n",
      "7 7\n",
      "2 0\n",
      "4 0\n",
      "0 4\n",
      "7 6\n",
      "0 2\n",
      "1 0\n",
      "0 0\n",
      "-1 -1\n",
      "3 1\n",
      "-1 -1\n",
      "6 1\n"
     ]
    },
    {
     "name": "stderr",
     "output_type": "stream",
     "text": [
      "\n"
     ]
    },
    {
     "ename": "TypeError",
     "evalue": "int() argument must be a string, a bytes-like object or a real number, not 'NoneType'",
     "output_type": "error",
     "traceback": [
      "\u001b[0;31m---------------------------------------------------------------------------\u001b[0m",
      "\u001b[0;31mTypeError\u001b[0m                                 Traceback (most recent call last)",
      "Cell \u001b[0;32mIn[7], line 1\u001b[0m\n\u001b[0;32m----> 1\u001b[0m \u001b[43mgenerate_move_dataset\u001b[49m\u001b[43m(\u001b[49m\u001b[38;5;241;43m1000\u001b[39;49m\u001b[43m,\u001b[49m\u001b[43m \u001b[49m\u001b[38;5;124;43m\"\u001b[39;49m\u001b[38;5;124;43mdata\u001b[39;49m\u001b[38;5;124;43m\"\u001b[39;49m\u001b[43m)\u001b[49m\n",
      "File \u001b[0;32m~/repos/othello-interp/othello.py:217\u001b[0m, in \u001b[0;36mgenerate_move_dataset\u001b[0;34m(n_moves, save_dir)\u001b[0m\n\u001b[1;32m    215\u001b[0m \u001b[38;5;28;01mfor\u001b[39;00m i \u001b[38;5;129;01min\u001b[39;00m tqdm(\u001b[38;5;28mrange\u001b[39m(n_moves)):\n\u001b[1;32m    216\u001b[0m     moves_played \u001b[38;5;241m=\u001b[39m _play_random_game()\n\u001b[0;32m--> 217\u001b[0m     moves_played \u001b[38;5;241m=\u001b[39m \u001b[43mnp\u001b[49m\u001b[38;5;241;43m.\u001b[39;49m\u001b[43marray\u001b[49m\u001b[43m(\u001b[49m\u001b[43m[\u001b[49m\u001b[38;5;28;43mprint\u001b[39;49m\u001b[43m(\u001b[49m\u001b[43mx\u001b[49m\u001b[43m,\u001b[49m\u001b[43m \u001b[49m\u001b[43my\u001b[49m\u001b[43m)\u001b[49m\u001b[43m \u001b[49m\u001b[38;5;28;43;01mfor\u001b[39;49;00m\u001b[43m \u001b[49m\u001b[43m(\u001b[49m\u001b[43mx\u001b[49m\u001b[43m,\u001b[49m\u001b[43m \u001b[49m\u001b[43my\u001b[49m\u001b[43m)\u001b[49m\u001b[43m \u001b[49m\u001b[38;5;129;43;01min\u001b[39;49;00m\u001b[43m \u001b[49m\u001b[43mmoves_played\u001b[49m\u001b[43m]\u001b[49m\u001b[43m,\u001b[49m\u001b[43m \u001b[49m\u001b[43mdtype\u001b[49m\u001b[38;5;241;43m=\u001b[39;49m\u001b[43mnp\u001b[49m\u001b[38;5;241;43m.\u001b[39;49m\u001b[43mint8\u001b[49m\u001b[43m)\u001b[49m\n\u001b[1;32m    218\u001b[0m     np\u001b[38;5;241m.\u001b[39msave(\u001b[38;5;124mf\u001b[39m\u001b[38;5;124m\"\u001b[39m\u001b[38;5;132;01m{\u001b[39;00msave_dir\u001b[38;5;132;01m}\u001b[39;00m\u001b[38;5;124m/game_\u001b[39m\u001b[38;5;132;01m{\u001b[39;00mi\u001b[38;5;132;01m}\u001b[39;00m\u001b[38;5;124m.npy\u001b[39m\u001b[38;5;124m\"\u001b[39m, moves_played)\n",
      "\u001b[0;31mTypeError\u001b[0m: int() argument must be a string, a bytes-like object or a real number, not 'NoneType'"
     ]
    }
   ],
   "source": [
    "generate_move_dataset(1000, \"data\")"
   ]
  }
 ],
 "metadata": {
  "kernelspec": {
   "display_name": ".venv",
   "language": "python",
   "name": "python3"
  },
  "language_info": {
   "codemirror_mode": {
    "name": "ipython",
    "version": 3
   },
   "file_extension": ".py",
   "mimetype": "text/x-python",
   "name": "python",
   "nbconvert_exporter": "python",
   "pygments_lexer": "ipython3",
   "version": "3.13.1"
  }
 },
 "nbformat": 4,
 "nbformat_minor": 2
}
